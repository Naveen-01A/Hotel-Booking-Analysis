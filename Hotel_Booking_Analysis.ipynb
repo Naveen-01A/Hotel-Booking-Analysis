{
  "nbformat": 4,
  "nbformat_minor": 0,
  "metadata": {
    "colab": {
      "private_outputs": true,
      "provenance": [],
      "collapsed_sections": [
        "vncDsAP0Gaoa",
        "FJNUwmbgGyua",
        "w6K7xa23Elo4",
        "yQaldy8SH6Dl",
        "PH-0ReGfmX4f",
        "mDgbUHAGgjLW",
        "O_i_v8NEhb9l",
        "HhfV-JJviCcP",
        "Y3lxredqlCYt",
        "3RnN4peoiCZX",
        "x71ZqKXriCWQ",
        "7hBIi_osiCS2",
        "JlHwYmJAmNHm",
        "35m5QtbWiB9F",
        "PoPl-ycgm1ru",
        "H0kj-8xxnORC",
        "nA9Y7ga8ng1Z",
        "PBTbrJXOngz2",
        "u3PMJOP6ngxN",
        "dauF4eBmngu3",
        "bKJF3rekwFvQ",
        "MSa1f5Uengrz",
        "GF8Ens_Soomf",
        "0wOQAZs5pc--",
        "K5QZ13OEpz2H",
        "lQ7QKXXCp7Bj",
        "448CDAPjqfQr",
        "KSlN3yHqYklG",
        "t6dVpIINYklI",
        "ijmpgYnKYklI",
        "-JiQyfWJYklI",
        "EM7whBJCYoAo",
        "fge-S5ZAYoAp",
        "85gYPyotYoAp",
        "RoGjAbkUYoAp",
        "4Of9eVA-YrdM",
        "iky9q4vBYrdO",
        "F6T5p64dYrdO",
        "y-Ehk30pYrdP",
        "bamQiAODYuh1",
        "QHF8YVU7Yuh3",
        "GwzvFGzlYuh3",
        "qYpmQ266Yuh3",
        "OH-pJp9IphqM",
        "bbFf2-_FphqN",
        "_ouA3fa0phqN",
        "Seke61FWphqN",
        "PIIx-8_IphqN",
        "t27r6nlMphqO",
        "r2jJGEOYphqO",
        "b0JNsNcRphqO",
        "BZR9WyysphqO",
        "jj7wYXLtphqO",
        "eZrbJ2SmphqO",
        "rFu4xreNphqO",
        "YJ55k-q6phqO",
        "gCFgpxoyphqP",
        "OVtJsKN_phqQ",
        "lssrdh5qphqQ",
        "U2RJ9gkRphqQ",
        "1M8mcRywphqQ",
        "tgIPom80phqQ",
        "JMzcOPDDphqR",
        "x-EpHcCOp1ci",
        "X_VqEhTip1ck",
        "8zGJKyg5p1ck",
        "PVzmfK_Ep1ck",
        "n3dbpmDWp1ck",
        "ylSl6qgtp1ck",
        "ZWILFDl5p1ck",
        "M7G43BXep1ck",
        "Ag9LCva-p1cl",
        "E6MkPsBcp1cl",
        "2cELzS2fp1cl",
        "3MPXvC8up1cl",
        "NC_X3p0fY2L0",
        "UV0SzAkaZNRQ",
        "YPEH6qLeZNRQ",
        "q29F0dvdveiT",
        "EXh0U9oCveiU",
        "22aHeOlLveiV",
        "JcMwzZxoAimU",
        "8G2x9gOozGDZ",
        "gCX9965dhzqZ",
        "gIfDvo9L0UH2"
      ],
      "include_colab_link": true
    },
    "kernelspec": {
      "name": "python3",
      "display_name": "Python 3"
    },
    "language_info": {
      "name": "python"
    }
  },
  "cells": [
    {
      "cell_type": "markdown",
      "metadata": {
        "id": "view-in-github",
        "colab_type": "text"
      },
      "source": [
        "<a href=\"https://colab.research.google.com/github/Naveen-01A/Hotel-Booking-Analysis/blob/main/Hotel_Booking_Analysis.ipynb\" target=\"_parent\"><img src=\"https://colab.research.google.com/assets/colab-badge.svg\" alt=\"Open In Colab\"/></a>"
      ]
    },
    {
      "cell_type": "markdown",
      "source": [
        "# **Hotel Booking Analysis**    -\n",
        "\n"
      ],
      "metadata": {
        "id": "vncDsAP0Gaoa"
      }
    },
    {
      "cell_type": "markdown",
      "source": [
        "##### **Project Type**    - EDA/Regression\n",
        "##### **Contribution**    - Individual\n",
        "##### **Name**            - Naveen Akula\n"
      ],
      "metadata": {
        "id": "beRrZCGUAJYm"
      }
    },
    {
      "cell_type": "markdown",
      "source": [
        "# **Project Summary -**"
      ],
      "metadata": {
        "id": "FJNUwmbgGyua"
      }
    },
    {
      "cell_type": "markdown",
      "source": [
        "Exploratory Data Analysis (EDA) on Hotel Booking Dataset\n",
        "\n",
        "The objective of this project was to conduct Exploratory Data Analysis (EDA) on a hotel booking dataset to uncover insights into customer behavior and booking patterns. The dataset encompassed diverse information about hotel bookings, including booking dates, customer demographics, and reservation details. Our analysis comprised two main stages: data cleaning and preprocessing, followed by data visualization using various graphical techniques."
      ],
      "metadata": {
        "id": "F6v_1wHtG2nS"
      }
    },
    {
      "cell_type": "markdown",
      "source": [
        "# **GitHub Link -**"
      ],
      "metadata": {
        "id": "w6K7xa23Elo4"
      }
    },
    {
      "cell_type": "markdown",
      "source": [
        "Provide your GitHub Link here."
      ],
      "metadata": {
        "id": "h1o69JH3Eqqn"
      }
    },
    {
      "cell_type": "markdown",
      "source": [
        "# **Problem Statement**\n"
      ],
      "metadata": {
        "id": "yQaldy8SH6Dl"
      }
    },
    {
      "cell_type": "markdown",
      "source": [
        "**This report focuses on the analysis of hotel booking cancellations and other factors that do not directly impact the business and annual revenue generation of both the City Hotel and Resort Hotel. In recent years, both hotels have seen significant increases in their cancellation rates, leading to challenges such as reduced revenue and underutilized hotel rooms. Therefore, the top priority for both hotels is to reduce their cancellation rates, which will enhance their efficiency in revenue generation. Through this analysis, we aim to identify factors contributing to cancellation rates and propose strategies to mitigate them, ultimately improving the overall performance of both hotels.**"
      ],
      "metadata": {
        "id": "DpeJGUA3kjGy"
      }
    },
    {
      "cell_type": "markdown",
      "source": [
        "#### **Define Your Business Objective?**"
      ],
      "metadata": {
        "id": "PH-0ReGfmX4f"
      }
    },
    {
      "cell_type": "markdown",
      "source": [
        "In the past few years, both the City Hotel and Resort Hotel have experienced significant increases in their cancellation rates. As a result, both hotels are currently facing a range of challenges, such as reduced revenue and underutilized hotel rooms. Therefore, the top priority for both hotels is to reduce their cancellation rates, which will enhance their efficiency in generating revenue. This report focuses on the analysis of hotel booking cancellations and other factors that do not directly impact their business and annual revenue generation."
      ],
      "metadata": {
        "id": "PhDvGCAqmjP1"
      }
    },
    {
      "cell_type": "markdown",
      "source": [
        "# **General Guidelines** : -  "
      ],
      "metadata": {
        "id": "mDgbUHAGgjLW"
      }
    },
    {
      "cell_type": "markdown",
      "source": [
        "1.   Well-structured, formatted, and commented code is required.\n",
        "2.   Exception Handling, Production Grade Code & Deployment Ready Code will be a plus. Those students will be awarded some additional credits.\n",
        "     \n",
        "     The additional credits will have advantages over other students during Star Student selection.\n",
        "       \n",
        "             [ Note: - Deployment Ready Code is defined as, the whole .ipynb notebook should be executable in one go\n",
        "                       without a single error logged. ]\n",
        "\n",
        "3.   Each and every logic should have proper comments.\n",
        "4. You may add as many number of charts you want. Make Sure for each and every chart the following format should be answered.\n",
        "        \n",
        "\n",
        "```\n",
        "# Chart visualization code\n",
        "```\n",
        "            \n",
        "\n",
        "*   Why did you pick the specific chart?\n",
        "*   What is/are the insight(s) found from the chart?\n",
        "* Will the gained insights help creating a positive business impact?\n",
        "Are there any insights that lead to negative growth? Justify with specific reason.\n",
        "\n",
        "5. You have to create at least 20 logical & meaningful charts having important insights.\n",
        "\n",
        "\n",
        "[ Hints : - Do the Vizualization in  a structured way while following \"UBM\" Rule.\n",
        "\n",
        "U - Univariate Analysis,\n",
        "\n",
        "B - Bivariate Analysis (Numerical - Categorical, Numerical - Numerical, Categorical - Categorical)\n",
        "\n",
        "M - Multivariate Analysis\n",
        " ]\n",
        "\n",
        "\n",
        "\n"
      ],
      "metadata": {
        "id": "ZrxVaUj-hHfC"
      }
    },
    {
      "cell_type": "markdown",
      "source": [
        "# ***Let's Begin !***"
      ],
      "metadata": {
        "id": "O_i_v8NEhb9l"
      }
    },
    {
      "cell_type": "markdown",
      "source": [
        "## ***1. Know Your Data***"
      ],
      "metadata": {
        "id": "HhfV-JJviCcP"
      }
    },
    {
      "cell_type": "markdown",
      "source": [
        "### Import Libraries"
      ],
      "metadata": {
        "id": "Y3lxredqlCYt"
      }
    },
    {
      "cell_type": "code",
      "source": [
        "# Import Libraries\n",
        "\n",
        "import pandas as pd\n",
        "import numpy as np\n",
        "import matplotlib.pyplot as plt\n",
        "import seaborn as sns\n",
        "import warnings\n",
        "warnings.filterwarnings('ignore')\n",
        "\n"
      ],
      "metadata": {
        "id": "M8Vqi-pPk-HR"
      },
      "execution_count": null,
      "outputs": []
    },
    {
      "cell_type": "markdown",
      "source": [
        "### Dataset Loading"
      ],
      "metadata": {
        "id": "3RnN4peoiCZX"
      }
    },
    {
      "cell_type": "code",
      "source": [
        "# Load Dataset"
      ],
      "metadata": {
        "id": "4CkvbW_SlZ_R"
      },
      "execution_count": null,
      "outputs": []
    },
    {
      "cell_type": "code",
      "source": [
        "df = pd.read_csv('/content/Hotel Bookings (1).csv')"
      ],
      "metadata": {
        "id": "KGMHPGpqdCw8"
      },
      "execution_count": null,
      "outputs": []
    },
    {
      "cell_type": "markdown",
      "source": [
        "### Dataset First View"
      ],
      "metadata": {
        "id": "x71ZqKXriCWQ"
      }
    },
    {
      "cell_type": "code",
      "source": [
        "# Dataset First Look\n",
        "\n",
        "df.head()\n",
        "\n",
        "# Head function show the specified number of rows the start of the dataframe, when arguments are empty it shows first."
      ],
      "metadata": {
        "id": "LWNFOSvLl09H"
      },
      "execution_count": null,
      "outputs": []
    },
    {
      "cell_type": "code",
      "source": [
        "df.tail()\n",
        "\n",
        "# It shows the last 5 rows of the datasets\n"
      ],
      "metadata": {
        "id": "-ldyL5s2eWNJ"
      },
      "execution_count": null,
      "outputs": []
    },
    {
      "cell_type": "markdown",
      "source": [
        "### Dataset Rows & Columns count"
      ],
      "metadata": {
        "id": "7hBIi_osiCS2"
      }
    },
    {
      "cell_type": "code",
      "source": [
        "# Dataset Rows & Columns count\n",
        "\n",
        "df.shape\n",
        "\n",
        "# shape attributes show the number of rows and columns in the datasat"
      ],
      "metadata": {
        "id": "Kllu7SJgmLij"
      },
      "execution_count": null,
      "outputs": []
    },
    {
      "cell_type": "markdown",
      "source": [
        "### Dataset Information"
      ],
      "metadata": {
        "id": "JlHwYmJAmNHm"
      }
    },
    {
      "cell_type": "code",
      "source": [
        "# Dataset Info\n",
        "\n",
        "df.info()\n",
        "\n",
        "# info method give the information about the type of the columns and the number of non null values"
      ],
      "metadata": {
        "id": "e9hRXRi6meOf"
      },
      "execution_count": null,
      "outputs": []
    },
    {
      "cell_type": "code",
      "source": [
        "df.describe(include = \"all\")\n",
        "\n",
        "# The describe method describes the values present in the columns of the dataframe."
      ],
      "metadata": {
        "id": "8YA9hz2rf3zf"
      },
      "execution_count": null,
      "outputs": []
    },
    {
      "cell_type": "markdown",
      "source": [
        "#### Duplicate Values"
      ],
      "metadata": {
        "id": "35m5QtbWiB9F"
      }
    },
    {
      "cell_type": "code",
      "source": [
        "# Dataset Duplicate Value Count\n",
        "\n",
        "df.duplicated().sum()"
      ],
      "metadata": {
        "id": "1sLdpKYkmox0"
      },
      "execution_count": null,
      "outputs": []
    },
    {
      "cell_type": "code",
      "source": [
        "df.duplicated().value_counts()"
      ],
      "metadata": {
        "id": "uegQQYVAhCwt"
      },
      "execution_count": null,
      "outputs": []
    },
    {
      "cell_type": "markdown",
      "source": [
        "#### Missing Values/Null Values"
      ],
      "metadata": {
        "id": "PoPl-ycgm1ru"
      }
    },
    {
      "cell_type": "code",
      "source": [
        "# Missing Values/Null Values Count\n",
        "\n",
        "missing_values_df = df.isna().sum().sort_values(ascending= False)[:10]\n",
        "missing_values_df = missing_values_df.reset_index().rename(columns = {\"index\" : \"column\", 0 : \"null values\"})\n",
        "missing_values_df\n"
      ],
      "metadata": {
        "id": "GgHWkxvamxVg"
      },
      "execution_count": null,
      "outputs": []
    },
    {
      "cell_type": "code",
      "source": [
        "# Visualizing the missing values\n",
        "\n",
        "sns.barplot(data = missing_values_df, x = \"column\", y = \"null values\")\n",
        "plt.xticks(rotation = 90)\n",
        "plt.show()"
      ],
      "metadata": {
        "id": "3q5wnI3om9sJ"
      },
      "execution_count": null,
      "outputs": []
    },
    {
      "cell_type": "code",
      "source": [
        "df[\"company\"].fillna(0, inplace = True)\n",
        "\n",
        "# Fills 0 in place of null in the company column"
      ],
      "metadata": {
        "id": "lX9NaH_zjmBG"
      },
      "execution_count": null,
      "outputs": []
    },
    {
      "cell_type": "code",
      "source": [
        "df[\"adults\"].fillna(0, inplace = True)"
      ],
      "metadata": {
        "id": "JJrQzVMEjnMB"
      },
      "execution_count": null,
      "outputs": []
    },
    {
      "cell_type": "code",
      "source": [
        "df[\"children\"].fillna(0, inplace = True)"
      ],
      "metadata": {
        "id": "Bn6Y54HDjnc2"
      },
      "execution_count": null,
      "outputs": []
    },
    {
      "cell_type": "code",
      "source": [
        "df[\"agent\"].fillna(0, inplace = True)"
      ],
      "metadata": {
        "id": "6hzvkSSVklt6"
      },
      "execution_count": null,
      "outputs": []
    },
    {
      "cell_type": "code",
      "source": [
        "df[\"country\"].fillna(0, inplace = True)"
      ],
      "metadata": {
        "id": "Z2wTdcOmklxY"
      },
      "execution_count": null,
      "outputs": []
    },
    {
      "cell_type": "code",
      "source": [
        "df.isna().sum()"
      ],
      "metadata": {
        "id": "YHuJWfnnk5-Z"
      },
      "execution_count": null,
      "outputs": []
    },
    {
      "cell_type": "code",
      "source": [
        "duplicate = df.duplicated().value_counts()\n",
        "duplicate"
      ],
      "metadata": {
        "id": "8bDbAPTTk5v6"
      },
      "execution_count": null,
      "outputs": []
    },
    {
      "cell_type": "code",
      "source": [
        "color = ['green', 'orange']\n",
        "plt.bar(x = duplicate.index, height = duplicate, color = color)\n",
        "\n",
        "# bar plot function of matplotlib\n",
        "\n",
        "plt.xticks([0, 1])\n",
        "plt.xlabel(\"Duplicate\")\n",
        "plt.ylabel(\"Count\")\n",
        "# Barplot shows that more than 30000 records are duplicate"
      ],
      "metadata": {
        "id": "tsxJ4rz6k5h0"
      },
      "execution_count": null,
      "outputs": []
    },
    {
      "cell_type": "code",
      "source": [
        "df.drop_duplicates(keep = False, inplace = True)\n",
        "\n",
        "# Droping duplictaes from the dataset"
      ],
      "metadata": {
        "id": "j9MI3joFk5Vd"
      },
      "execution_count": null,
      "outputs": []
    },
    {
      "cell_type": "code",
      "source": [
        "df.duplicated().value_counts()\n",
        "\n",
        "# Checking duplicates True / False values count"
      ],
      "metadata": {
        "id": "kZrfvWVRmv3s"
      },
      "execution_count": null,
      "outputs": []
    },
    {
      "cell_type": "code",
      "source": [
        "df.shape\n",
        "\n",
        "# Showing the Rows / Columns of the present dataframe"
      ],
      "metadata": {
        "id": "6-N6igDSk42L"
      },
      "execution_count": null,
      "outputs": []
    },
    {
      "cell_type": "markdown",
      "source": [
        "### What did you know about your dataset?"
      ],
      "metadata": {
        "id": "H0kj-8xxnORC"
      }
    },
    {
      "cell_type": "markdown",
      "source": [
        "At first the dataset had about 119390 rows. But after replacing  null values with 0 and removing duplicateed rows it has 79225 rows and same 32 columns as before."
      ],
      "metadata": {
        "id": "gfoNAAC-nUe_"
      }
    },
    {
      "cell_type": "markdown",
      "source": [
        "## ***2. Understanding Your Variables***"
      ],
      "metadata": {
        "id": "nA9Y7ga8ng1Z"
      }
    },
    {
      "cell_type": "code",
      "source": [
        "# Dataset Columns\n",
        "\n",
        "df.columns\n",
        "\n",
        "# Attribute which shows the column names of the dataset"
      ],
      "metadata": {
        "id": "j7xfkqrt5Ag5"
      },
      "execution_count": null,
      "outputs": []
    },
    {
      "cell_type": "markdown",
      "source": [
        "## Data Description:\n",
        "\n",
        "1. hotel : Hotel(Resort Hotel or City Hotel)\n",
        "\n",
        "2. is_canceled : Value indicating if the booking was canceled (1) or not (0)\n",
        "\n",
        "3. lead_time :* Number of days that elapsed between the entering date of the\n",
        "  booking into the PMS and the arrival date*\n",
        "\n",
        "4. arrival_date_year : Year of arrival date\n",
        "\n",
        "5. arrival_date_month : Month of arrival date\n",
        "\n",
        "6. arrival_date_week_number : Week number of year for arrival date\n",
        "\n",
        "7. arrival_date_day_of_month : Day of arrival date\n",
        "\n",
        "8. stays_in_weekend_nights : Number of weekend nights (Saturday or Sunday) the guest stayed or booked to stay at the hotel\n",
        "\n",
        "9. stays_in_week_nights : Number of week nights (Monday to Friday) the guest stayed or booked to stay at the hotel\n",
        "\n",
        "10. adults : Number of adults\n",
        "\n",
        "11. children : Number of children\n",
        "\n",
        "12. babies : Number of babies\n",
        "\n",
        "13. meal : Type of meal booked. Categories are presented in standard hospitality meal packages:\n",
        "\n",
        "14. country : Country of origin.`\n",
        "\n",
        "15. market_segment : Market segment designation. In categories, the term “TA” means “Travel Agents” and “TO” means “Tour Operators”\n",
        "\n",
        "16. distribution_channel : Booking distribution channel. The term “TA” means “Travel Agents” and “TO” means “Tour Operators”\n",
        "\n",
        "17. is_repeated_guest : Value indicating if the booking name was from a repeated guest (1) or not (0)\n",
        "\n",
        "18. previous_cancellations : Number of previous bookings that were cancelled by the customer prior to the current booking\n",
        "\n",
        "19. previous_bookings_not_canceled : Number of previous bookings not cancelled by the customer prior to the current booking\n",
        "\n",
        "20. reserved_room_type : Code of room type reserved. Code is presented instead of designation for anonymity reasons.\n",
        "\n",
        "21. assigned_room_type : Code for the type of room assigned to the booking.\n",
        "\n",
        "22. booking_changes : Number of changes/amendments made to the booking from the moment the booking was entered on the PMS until the moment of check-in or cancellation\n",
        "\n",
        "23. deposit_type : Indication on if the customer made a deposit to guarantee the booking.\n",
        "\n",
        "24. agent : ID of the travel agency that made the booking\n",
        "\n",
        "25. company : ID of the company/entity that made the booking or responsible for paying the booking.\n",
        "\n",
        "26. days_in_waiting_list : Number of days the booking was in the waiting list before it was confirmed to the customer\n",
        "\n",
        "27. customer_type : Type of booking, assuming one of four categories\n",
        "\n",
        "28. adr : Average Daily Rate as defined by dividing the sum of all lodging transactions by the total number of staying nights\n",
        "\n",
        "29. required_car_parking_spaces : Number of car parking spaces required by the customer\n",
        "\n",
        "30. total_of_special_requests :* Number of special requests made by the customer (e.g. twin bed or high floor)*\n",
        "\n",
        "31. reservation_status : Reservation last status, assuming one of three categories\n",
        "\n",
        "* Canceled - booking was canceled by the customer\n",
        "* Check-Out - customer has checked in but already departed\n",
        "* No-Show - customer did not check-in and did inform the hotel of the reason why\n",
        "\n",
        "32. reservation_status_date : Date at which the last status was set. This variable can be used in conjunction with the ReservationStatus to understand when was the booking canceled or when did the customer checked-out of the hotel\n",
        "\n"
      ],
      "metadata": {
        "id": "vFCEByyF9b3-"
      }
    },
    {
      "cell_type": "code",
      "source": [
        "# Dataset Describe\n",
        "\n",
        "df.describe()\n"
      ],
      "metadata": {
        "id": "DnOaZdaE5Q5t"
      },
      "execution_count": null,
      "outputs": []
    },
    {
      "cell_type": "markdown",
      "source": [
        "### Variables Description"
      ],
      "metadata": {
        "id": "PBTbrJXOngz2"
      }
    },
    {
      "cell_type": "markdown",
      "source": [
        "Answer Here"
      ],
      "metadata": {
        "id": "aJV4KIxSnxay"
      }
    },
    {
      "cell_type": "markdown",
      "source": [
        "### Check Unique Values for each variable."
      ],
      "metadata": {
        "id": "u3PMJOP6ngxN"
      }
    },
    {
      "cell_type": "code",
      "source": [
        "# Check Unique Values for each variable.\n",
        "\n",
        "df['hotel'].unique()"
      ],
      "metadata": {
        "id": "zms12Yq5n-jE"
      },
      "execution_count": null,
      "outputs": []
    },
    {
      "cell_type": "code",
      "source": [
        "df.columns"
      ],
      "metadata": {
        "id": "v6czCahS_mM2"
      },
      "execution_count": null,
      "outputs": []
    },
    {
      "cell_type": "code",
      "source": [
        "df['is_canceled'].unique()"
      ],
      "metadata": {
        "id": "n5SdSrNt_lnc"
      },
      "execution_count": null,
      "outputs": []
    },
    {
      "cell_type": "code",
      "source": [
        "df['lead_time'].unique()"
      ],
      "metadata": {
        "id": "oLgLlXNk_lBP"
      },
      "execution_count": null,
      "outputs": []
    },
    {
      "cell_type": "code",
      "source": [
        "df['arrival_date_year'].unique()"
      ],
      "metadata": {
        "id": "VczPA9zH_k6S"
      },
      "execution_count": null,
      "outputs": []
    },
    {
      "cell_type": "code",
      "source": [
        "df['arrival_date_month'].unique()"
      ],
      "metadata": {
        "id": "iRVcM0d3_kx_"
      },
      "execution_count": null,
      "outputs": []
    },
    {
      "cell_type": "code",
      "source": [
        "df['arrival_date_week_number'].unique()"
      ],
      "metadata": {
        "id": "oLbpu0VN_kuj"
      },
      "execution_count": null,
      "outputs": []
    },
    {
      "cell_type": "code",
      "source": [
        "df['arrival_date_day_of_month'].unique()"
      ],
      "metadata": {
        "id": "ebTeCmfj_kin"
      },
      "execution_count": null,
      "outputs": []
    },
    {
      "cell_type": "code",
      "source": [
        "df['stays_in_weekend_nights'].unique()"
      ],
      "metadata": {
        "id": "bXs9NwU1A7IB"
      },
      "execution_count": null,
      "outputs": []
    },
    {
      "cell_type": "code",
      "source": [
        "df['stays_in_week_nights'].unique()"
      ],
      "metadata": {
        "id": "2lTFugkWA69A"
      },
      "execution_count": null,
      "outputs": []
    },
    {
      "cell_type": "code",
      "source": [
        "df['adults'].unique()"
      ],
      "metadata": {
        "id": "E_SPMUBJBom3"
      },
      "execution_count": null,
      "outputs": []
    },
    {
      "cell_type": "code",
      "source": [
        "df['children'].unique()"
      ],
      "metadata": {
        "id": "qdLEO0x7BojW"
      },
      "execution_count": null,
      "outputs": []
    },
    {
      "cell_type": "code",
      "source": [
        "df['babies'].unique()"
      ],
      "metadata": {
        "id": "veD7yAwwBog1"
      },
      "execution_count": null,
      "outputs": []
    },
    {
      "cell_type": "code",
      "source": [
        "df['meal'].unique()"
      ],
      "metadata": {
        "id": "Ubuf-VlqBoeX"
      },
      "execution_count": null,
      "outputs": []
    },
    {
      "cell_type": "code",
      "source": [
        "df['country'].unique()"
      ],
      "metadata": {
        "id": "O5xPRXG2Bob3"
      },
      "execution_count": null,
      "outputs": []
    },
    {
      "cell_type": "code",
      "source": [
        "df['market_segment'].unique()"
      ],
      "metadata": {
        "id": "tN3ENM9rBoOP"
      },
      "execution_count": null,
      "outputs": []
    },
    {
      "cell_type": "code",
      "source": [
        "df['distribution_channel'].unique()"
      ],
      "metadata": {
        "id": "DMiXauurA6xg"
      },
      "execution_count": null,
      "outputs": []
    },
    {
      "cell_type": "code",
      "source": [
        "df.columns"
      ],
      "metadata": {
        "id": "78M4P_NeDovI"
      },
      "execution_count": null,
      "outputs": []
    },
    {
      "cell_type": "markdown",
      "source": [
        "## 3. ***Data Wrangling***"
      ],
      "metadata": {
        "id": "dauF4eBmngu3"
      }
    },
    {
      "cell_type": "markdown",
      "source": [
        "### Data Wrangling Code"
      ],
      "metadata": {
        "id": "bKJF3rekwFvQ"
      }
    },
    {
      "cell_type": "code",
      "source": [
        "# Write your code to make your dataset analysis ready.\n",
        "\n",
        "df['reservation_status_date'] = pd.to_datetime(df['reservation_status_date'], format = '%Y-%m-%d')\n",
        "\n",
        "# to_dtaetime function converts the values of a column from string values in datetime object\n"
      ],
      "metadata": {
        "id": "wk-9a2fpoLcV"
      },
      "execution_count": null,
      "outputs": []
    },
    {
      "cell_type": "code",
      "source": [
        "df.info()\n",
        "\n",
        "# info function shows the columns in a dataset, their datatype and non null values count in that column\n"
      ],
      "metadata": {
        "id": "QQfp-v1OE_NQ"
      },
      "execution_count": null,
      "outputs": []
    },
    {
      "cell_type": "code",
      "source": [
        "df['total_people'] = df['adults'] + df['children'] + df['babies']\n",
        "\n",
        "# Adding adults column, children column and babies column values to create new column called total_people\n"
      ],
      "metadata": {
        "id": "ZPf2fip5E_K1"
      },
      "execution_count": null,
      "outputs": []
    },
    {
      "cell_type": "code",
      "source": [
        "df['total_stay'] = df['stays_in_weekend_nights'] + df['stays_in_week_nights']\n",
        "\n",
        "# Adding two columns values to create a new column called total_stay\n"
      ],
      "metadata": {
        "id": "QabfvCrNE_Hu"
      },
      "execution_count": null,
      "outputs": []
    },
    {
      "cell_type": "code",
      "source": [
        "\n",
        "df.head(3)\n",
        "\n",
        "# It shows the first 3 rows of the dataset\n"
      ],
      "metadata": {
        "id": "HGqa4AafE_FA"
      },
      "execution_count": null,
      "outputs": []
    },
    {
      "cell_type": "markdown",
      "source": [
        "### What all manipulations have you done and insights you found?"
      ],
      "metadata": {
        "id": "MSa1f5Uengrz"
      }
    },
    {
      "cell_type": "markdown",
      "source": [
        "1. Created a new column called \"total_people\" by adding all the adults, children and babies.\n",
        "2. The \"reservation_status_date\" is converted to datetime.\n",
        "3. Created a new column called \"total_stay\" by adding both \"stays_in_week_nights\" and \"stays_in_weekend_nights\".\n"
      ],
      "metadata": {
        "id": "LbyXE7I1olp8"
      }
    },
    {
      "cell_type": "markdown",
      "source": [
        "## ***4. Data Vizualization, Storytelling & Experimenting with charts : Understand the relationships between variables***"
      ],
      "metadata": {
        "id": "GF8Ens_Soomf"
      }
    },
    {
      "cell_type": "markdown",
      "source": [
        "#### 1. Pie chart of type of hotel - \"City hotel or Resort hotel\""
      ],
      "metadata": {
        "id": "0wOQAZs5pc--"
      }
    },
    {
      "cell_type": "code",
      "source": [
        "df['hotel'].value_counts()\n",
        "\n",
        "# Using the value_counts function which shows the count of the values present in the column\n"
      ],
      "metadata": {
        "id": "7v_ESjsspbW7"
      },
      "execution_count": null,
      "outputs": []
    },
    {
      "cell_type": "code",
      "source": [
        "\n",
        "# Pie function of matplotlib.pyplot to create pie chart\n",
        "\n",
        "# Count the number of each hotel type\n",
        "hotel_counts = df['hotel'].value_counts()\n",
        "\n",
        "# Determine the explode values based on the number of categories\n",
        "explode = [0.05] * len(hotel_counts)\n",
        "\n",
        "plt.figure(figsize=(10, 8))\n",
        "df['hotel'].value_counts().plot.pie(explode=explode, autopct='%1.1f%%', shadow=True, figsize=(10, 8), fontsize=20)\n",
        "\n",
        "plt.title('Percentage of City and Resort hotels')\n",
        "\n",
        "# Setting title of the created chart\n",
        "\n",
        "plt.show()\n"
      ],
      "metadata": {
        "id": "LQEnN_tZLTip"
      },
      "execution_count": null,
      "outputs": []
    },
    {
      "cell_type": "markdown",
      "source": [
        "##### 1. Why did you pick the specific chart?"
      ],
      "metadata": {
        "id": "K5QZ13OEpz2H"
      }
    },
    {
      "cell_type": "markdown",
      "source": [
        "The Pie chart is used to percentage of the both City and Resort hotels."
      ],
      "metadata": {
        "id": "XESiWehPqBRc"
      }
    },
    {
      "cell_type": "markdown",
      "source": [
        "##### 2. What is/are the insight(s) found from the chart?"
      ],
      "metadata": {
        "id": "lQ7QKXXCp7Bj"
      }
    },
    {
      "cell_type": "markdown",
      "source": [
        "**Observation -** 60 % are the City hotels and around 40 % are Resort hotels."
      ],
      "metadata": {
        "id": "C_j1G7yiqdRP"
      }
    },
    {
      "cell_type": "markdown",
      "source": [
        "##### 3. Will the gained insights help creating a positive business impact?\n",
        "Are there any insights that lead to negative growth? Justify with specific reason."
      ],
      "metadata": {
        "id": "448CDAPjqfQr"
      }
    },
    {
      "cell_type": "markdown",
      "source": [
        "It will helps us to understand the distribution of the hotels and what type of hotel is preffed to bulid next."
      ],
      "metadata": {
        "id": "3cspy4FjqxJW"
      }
    },
    {
      "cell_type": "markdown",
      "source": [
        "#### 2. Number of booking that are cancelled"
      ],
      "metadata": {
        "id": "KSlN3yHqYklG"
      }
    },
    {
      "cell_type": "code",
      "source": [
        "df.columns"
      ],
      "metadata": {
        "id": "ZdSl_6szSIDB"
      },
      "execution_count": null,
      "outputs": []
    },
    {
      "cell_type": "code",
      "source": [
        "cancelled = df['is_canceled'].value_counts().reset_index().rename(columns = {'index' : 'cancelled' })\n",
        "\n",
        "\n",
        "# checking the value counts of the is_canceled column, resetting the resultant the series in to a dataframe and remaining its columns\n"
      ],
      "metadata": {
        "id": "7bd-2D_pRbJS"
      },
      "execution_count": null,
      "outputs": []
    },
    {
      "cell_type": "code",
      "source": [
        "cancelled"
      ],
      "metadata": {
        "id": "aHnoa2DZgCVW"
      },
      "execution_count": null,
      "outputs": []
    },
    {
      "cell_type": "code",
      "source": [
        "plt.bar(cancelled.index, cancelled['count'], color = ['green', 'red'])\n",
        "\n",
        "# Bar function of matplotlib which is used to create bar graph\n",
        "\n",
        "plt.title('Count of cancelled bookings')\n",
        "plt.xticks(cancelled.index)\n",
        "plt.xlabel('Cacelled')\n",
        "plt.ylabel(\"count\")\n",
        "# replacing the values of the x axis\n",
        "\n",
        "plt.show()\n"
      ],
      "metadata": {
        "id": "R4YgtaqtYklH"
      },
      "execution_count": null,
      "outputs": []
    },
    {
      "cell_type": "markdown",
      "source": [
        "##### 1. Why did you pick the specific chart?"
      ],
      "metadata": {
        "id": "t6dVpIINYklI"
      }
    },
    {
      "cell_type": "markdown",
      "source": [
        "Bar plot is used to understand the amount of bookings that got cancelled, the bar plot is used to p-lot for categorical data."
      ],
      "metadata": {
        "id": "5aaW0BYyYklI"
      }
    },
    {
      "cell_type": "markdown",
      "source": [
        "##### 2. What is/are the insight(s) found from the chart?"
      ],
      "metadata": {
        "id": "ijmpgYnKYklI"
      }
    },
    {
      "cell_type": "markdown",
      "source": [
        "**Observation -** More than 20000 of the hotel bookings got cancelled. as deen from the dataset."
      ],
      "metadata": {
        "id": "PSx9atu2YklI"
      }
    },
    {
      "cell_type": "markdown",
      "source": [
        "##### 3. Will the gained insights help creating a positive business impact?\n",
        "Are there any insights that lead to negative growth? Justify with specific reason."
      ],
      "metadata": {
        "id": "-JiQyfWJYklI"
      }
    },
    {
      "cell_type": "markdown",
      "source": [
        "Analyzing cancellation data can help in developing strategies to minimize cancellations, improve customer satisfaction, and optimize business performance."
      ],
      "metadata": {
        "id": "BcBbebzrYklV"
      }
    },
    {
      "cell_type": "markdown",
      "source": [
        "#### 3. Percentage of bokkings that get cancelled"
      ],
      "metadata": {
        "id": "EM7whBJCYoAo"
      }
    },
    {
      "cell_type": "code",
      "source": [
        "is_cancelled = df['is_canceled'].value_counts()\n",
        "\n",
        "# Using the value_counts function which shows the count of the values present in the column\n",
        "\n",
        "is_cancelled\n"
      ],
      "metadata": {
        "id": "t6GMdE67YoAp"
      },
      "execution_count": null,
      "outputs": []
    },
    {
      "cell_type": "code",
      "source": [
        "plt.figure(figsize=(10, 8))\n",
        "df['is_canceled'].value_counts().plot.pie(explode=[0.05, 0.05], autopct='%1.1f%%', shadow=True, figsize=(10, 8), fontsize=20)\n",
        "\n",
        "plt.title('Cancellation and non Cancellation')\n",
        "\n",
        "# Setting title of the created chart\n",
        "\n",
        "plt.show()"
      ],
      "metadata": {
        "id": "CCvv8MqpFYdL"
      },
      "execution_count": null,
      "outputs": []
    },
    {
      "cell_type": "markdown",
      "source": [
        "##### 1. Why did you pick the specific chart?"
      ],
      "metadata": {
        "id": "fge-S5ZAYoAp"
      }
    },
    {
      "cell_type": "markdown",
      "source": [
        "The Pie chart is to find the percentage of booking that get cancelled."
      ],
      "metadata": {
        "id": "5dBItgRVYoAp"
      }
    },
    {
      "cell_type": "markdown",
      "source": [
        "##### 2. What is/are the insight(s) found from the chart?"
      ],
      "metadata": {
        "id": "85gYPyotYoAp"
      }
    },
    {
      "cell_type": "markdown",
      "source": [
        "**Observation -** About 26.2 % bookings get cancelled."
      ],
      "metadata": {
        "id": "4jstXR6OYoAp"
      }
    },
    {
      "cell_type": "markdown",
      "source": [
        "##### 3. Will the gained insights help creating a positive business impact?\n",
        "Are there any insights that lead to negative growth? Justify with specific reason."
      ],
      "metadata": {
        "id": "RoGjAbkUYoAp"
      }
    },
    {
      "cell_type": "markdown",
      "source": [
        "It helps to understand the amount of cancellation that a hotel management can expect when operating a hotal business."
      ],
      "metadata": {
        "id": "zfJ8IqMcYoAp"
      }
    },
    {
      "cell_type": "markdown",
      "source": [
        "#### 4. Count of booking changes that are made"
      ],
      "metadata": {
        "id": "4Of9eVA-YrdM"
      }
    },
    {
      "cell_type": "code",
      "source": [
        "booking_changes = df['booking_changes'].value_counts().reset_index().rename(columns={'booking_changes': 'Number of booking changes'})[:10]\n",
        "\n",
        "# checking the values counts, resetting index, remaining columns and slicing in one line\n",
        "\n",
        "booking_changes"
      ],
      "metadata": {
        "id": "afDJf7RQMr9t"
      },
      "execution_count": null,
      "outputs": []
    },
    {
      "cell_type": "code",
      "source": [
        "# Define a custom color palette\n",
        "custom_palette = [\"#FF5733\", \"#33FF57\", \"#3366FF\"]\n",
        "\n",
        "# Set the custom palette\n",
        "sns.set_palette(custom_palette)\n",
        "\n",
        "# Create a figure and set its size\n",
        "plt.figure(figsize=(10, 6))\n",
        "\n",
        "# Use seaborn's barplot function to create a bar graph\n",
        "sns.barplot(data=booking_changes, x='Number of booking changes', y='count')\n",
        "\n",
        "# Set the title of the plot\n",
        "plt.title('Count of number of booking changes')\n",
        "\n",
        "# Show the plot\n",
        "plt.show()"
      ],
      "metadata": {
        "id": "jOq-BWJiQxtB"
      },
      "execution_count": null,
      "outputs": []
    },
    {
      "cell_type": "markdown",
      "source": [
        "##### 1. Why did you pick the specific chart?"
      ],
      "metadata": {
        "id": "iky9q4vBYrdO"
      }
    },
    {
      "cell_type": "markdown",
      "source": [
        "The above chart to see the discrete numerical column called booking changes"
      ],
      "metadata": {
        "id": "aJRCwT6DYrdO"
      }
    },
    {
      "cell_type": "markdown",
      "source": [
        "##### 2. What is/are the insight(s) found from the chart?"
      ],
      "metadata": {
        "id": "F6T5p64dYrdO"
      }
    },
    {
      "cell_type": "markdown",
      "source": [
        "**Observation -** Most of the bookings have no changes, about 10000 of have only 1 change and 30000 of have 2 changes."
      ],
      "metadata": {
        "id": "Xx8WAJvtYrdO"
      }
    },
    {
      "cell_type": "markdown",
      "source": [
        "##### 3. Will the gained insights help creating a positive business impact?\n",
        "Are there any insights that lead to negative growth? Justify with specific reason."
      ],
      "metadata": {
        "id": "y-Ehk30pYrdP"
      }
    },
    {
      "cell_type": "markdown",
      "source": [
        "It shows the usual number of booking changes that the guests make. Thus the hotel staff may most times expect 1 or 2 changes to be made."
      ],
      "metadata": {
        "id": "jLNxxz7MYrdP"
      }
    },
    {
      "cell_type": "markdown",
      "source": [
        "#### 5. Agent who has done the most number of bokkings"
      ],
      "metadata": {
        "id": "bamQiAODYuh1"
      }
    },
    {
      "cell_type": "code",
      "source": [
        "agent_bookings = df.groupby(['agent'])['agent'].agg({'count'}).reset_index().rename(columns = {'count' : 'Most bookings'}).sort_values(by = 'Most bookings', ascending = False)[:10]\n",
        "\n",
        "#grouping by agent and fetching count of agent column values, resetting index, renaming column names, sorting values in descending order and slicing them for the first 10 values in one line\n",
        "agent_bookings"
      ],
      "metadata": {
        "id": "TIJwrbroYuh3"
      },
      "execution_count": null,
      "outputs": []
    },
    {
      "cell_type": "code",
      "source": [
        "sns.barplot(data = agent_bookings, x = 'agent', y = 'Most bookings', palette = 'inferno').set_title('Most bookings made by agent')\n",
        "\n",
        "# Barplot function of seaborn to create a bar graph\n",
        "\n",
        "plt.show()"
      ],
      "metadata": {
        "id": "pSpO0fSyXPEk"
      },
      "execution_count": null,
      "outputs": []
    },
    {
      "cell_type": "markdown",
      "source": [
        "##### 1. Why did you pick the specific chart?"
      ],
      "metadata": {
        "id": "QHF8YVU7Yuh3"
      }
    },
    {
      "cell_type": "markdown",
      "source": [
        "The bar chart for comparing which agent makes what number of bookings."
      ],
      "metadata": {
        "id": "dcxuIMRPYuh3"
      }
    },
    {
      "cell_type": "markdown",
      "source": [
        "##### 2. What is/are the insight(s) found from the chart?"
      ],
      "metadata": {
        "id": "GwzvFGzlYuh3"
      }
    },
    {
      "cell_type": "markdown",
      "source": [
        "**Observation -** Agent 9 made the most of the bookings and followed by 240."
      ],
      "metadata": {
        "id": "uyqkiB8YYuh3"
      }
    },
    {
      "cell_type": "markdown",
      "source": [
        "##### 3. Will the gained insights help creating a positive business impact?\n",
        "Are there any insights that lead to negative growth? Justify with specific reason."
      ],
      "metadata": {
        "id": "qYpmQ266Yuh3"
      }
    },
    {
      "cell_type": "markdown",
      "source": [
        "Specific agents may be rewarded with commission for their performance, least performing agent may be unsubscribed, depending on the insights found from this chart."
      ],
      "metadata": {
        "id": "_WtzZ_hCYuh4"
      }
    },
    {
      "cell_type": "markdown",
      "source": [
        "#### 6. Arrival distribution according to month"
      ],
      "metadata": {
        "id": "OH-pJp9IphqM"
      }
    },
    {
      "cell_type": "code",
      "source": [
        "arrival_distribution = df['arrival_date_month'].value_counts().reset_index().rename(columns = {'arrival_date_month' : 'month'})\n",
        "\n",
        "# Doing value counts, resetting index and remaining columns\n",
        "\n",
        "arrival_distribution\n"
      ],
      "metadata": {
        "id": "kuRf4wtuphqN"
      },
      "execution_count": null,
      "outputs": []
    },
    {
      "cell_type": "code",
      "source": [
        "sns.barplot(data = arrival_distribution, x = 'month', y = 'count', palette = 'deep')\n",
        "#Barplot function of seaborn used to create a bar graph\n",
        "plt.xticks(rotation = 90)\n",
        "# Rotating the values of the x axis by 90 degree for better readability\n",
        "\n",
        "plt.title('Bookings according to month')\n",
        "#Setting tile of the chart\n",
        "\n",
        "plt.show()"
      ],
      "metadata": {
        "id": "m0kDr_WtnXoH"
      },
      "execution_count": null,
      "outputs": []
    },
    {
      "cell_type": "markdown",
      "source": [
        "##### 1. Why did you pick the specific chart?"
      ],
      "metadata": {
        "id": "bbFf2-_FphqN"
      }
    },
    {
      "cell_type": "markdown",
      "source": [
        "The barplot is used to plot the distribution of bookings according to month."
      ],
      "metadata": {
        "id": "loh7H2nzphqN"
      }
    },
    {
      "cell_type": "markdown",
      "source": [
        "##### 2. What is/are the insight(s) found from the chart?"
      ],
      "metadata": {
        "id": "_ouA3fa0phqN"
      }
    },
    {
      "cell_type": "markdown",
      "source": [
        "**Observation -** Most of the guests arrive in the month of August, followed by July and May. Thus we can understand the seasonal trends of the hotel booking. So we can say Summer season is preffered."
      ],
      "metadata": {
        "id": "VECbqPI7phqN"
      }
    },
    {
      "cell_type": "markdown",
      "source": [
        "##### 3. Will the gained insights help creating a positive business impact?\n",
        "Are there any insights that lead to negative growth? Justify with specific reason."
      ],
      "metadata": {
        "id": "Seke61FWphqN"
      }
    },
    {
      "cell_type": "markdown",
      "source": [
        "The grained insights can help the hotel management to understand the yearly flow trends and seasonal hotel bookings."
      ],
      "metadata": {
        "id": "DW4_bGpfphqN"
      }
    },
    {
      "cell_type": "markdown",
      "source": [
        "#### 7. Room types that are mostly reserved"
      ],
      "metadata": {
        "id": "PIIx-8_IphqN"
      }
    },
    {
      "cell_type": "code",
      "source": [
        "plt.figure(figsize = (8, 6))\n",
        "#setting size of the figure\n",
        "\n",
        "sns.countplot(data = df, x = 'reserved_room_type', hue = 'hotel', palette = 'dark')\n",
        "# Count plot to show counts of categorical variable reserved_room_type, hue parameter is used to distribute the bar depending on city or resort hotel\n",
        "\n",
        "plt.title('Reserved room types based on city or resort hotels')\n",
        "# Setting the title of the chart\n",
        "\n",
        "plt.show()"
      ],
      "metadata": {
        "id": "lqAIGUfyphqO"
      },
      "execution_count": null,
      "outputs": []
    },
    {
      "cell_type": "markdown",
      "source": [
        "##### 1. Why did you pick the specific chart?"
      ],
      "metadata": {
        "id": "t27r6nlMphqO"
      }
    },
    {
      "cell_type": "markdown",
      "source": [
        "This Barplot chart to understands the distribution of bookings based on room type that is reserved"
      ],
      "metadata": {
        "id": "iv6ro40sphqO"
      }
    },
    {
      "cell_type": "markdown",
      "source": [
        "##### 2. What is/are the insight(s) found from the chart?"
      ],
      "metadata": {
        "id": "r2jJGEOYphqO"
      }
    },
    {
      "cell_type": "markdown",
      "source": [
        "**Observation -** A and D are the room types most reserved in both Resort and City hotels."
      ],
      "metadata": {
        "id": "Po6ZPi4hphqO"
      }
    },
    {
      "cell_type": "markdown",
      "source": [
        "##### 3. Will the gained insights help creating a positive business impact?\n",
        "Are there any insights that lead to negative growth? Justify with specific reason."
      ],
      "metadata": {
        "id": "b0JNsNcRphqO"
      }
    },
    {
      "cell_type": "markdown",
      "source": [
        "From the above plot, it will helps to determine which type of rooms are favourable for the customers and it will help to provide best services."
      ],
      "metadata": {
        "id": "xvSq8iUTphqO"
      }
    },
    {
      "cell_type": "markdown",
      "source": [
        "#### 8. Room types that are mostly assigned"
      ],
      "metadata": {
        "id": "BZR9WyysphqO"
      }
    },
    {
      "cell_type": "code",
      "source": [
        "plt.figure(figsize = (8, 6))\n",
        "\n",
        "sns.countplot(data = df, x = 'assigned_room_type', hue = 'hotel', palette = sns.color_palette('Set1'))\n",
        "\n",
        "plt.title('Assigned room types based on city and resort hotels')\n",
        "\n",
        "plt.show()"
      ],
      "metadata": {
        "id": "TdPTWpAVphqO"
      },
      "execution_count": null,
      "outputs": []
    },
    {
      "cell_type": "markdown",
      "source": [
        "##### 1. Why did you pick the specific chart?"
      ],
      "metadata": {
        "id": "jj7wYXLtphqO"
      }
    },
    {
      "cell_type": "markdown",
      "source": [
        "This chart is used to observe the distribution of bookings based on room type that is assigned."
      ],
      "metadata": {
        "id": "Ob8u6rCTphqO"
      }
    },
    {
      "cell_type": "markdown",
      "source": [
        "##### 2. What is/are the insight(s) found from the chart?"
      ],
      "metadata": {
        "id": "eZrbJ2SmphqO"
      }
    },
    {
      "cell_type": "markdown",
      "source": [
        "**Observation -** Room types A, D and E are the most assigned among city and resort hotels."
      ],
      "metadata": {
        "id": "mZtgC_hjphqO"
      }
    },
    {
      "cell_type": "markdown",
      "source": [
        "##### 3. Will the gained insights help creating a positive business impact?\n",
        "Are there any insights that lead to negative growth? Justify with specific reason."
      ],
      "metadata": {
        "id": "rFu4xreNphqO"
      }
    },
    {
      "cell_type": "markdown",
      "source": [
        "This gained insights can help to determine which type of rooms and their numbers when building a city or resort hotel and also to keep available which type of rooms when running a hotel."
      ],
      "metadata": {
        "id": "ey_0qi68phqO"
      }
    },
    {
      "cell_type": "markdown",
      "source": [
        "#### 9. Distribution of hotel bookings arrival according to years"
      ],
      "metadata": {
        "id": "YJ55k-q6phqO"
      }
    },
    {
      "cell_type": "code",
      "source": [
        "plt.figure(figsize = (5, 5))\n",
        "# Setting the figure size\n",
        "\n",
        "sns.countplot(data = df, x = 'arrival_date_year', hue = 'hotel', palette = 'inferno')\n",
        "# Countplot function of seaborn to see the count of the arrival year's occurence\n",
        "\n",
        "plt.title('Distribution of arrival date according to year or arrival')\n",
        "# Setting the title of the chart\n",
        "\n",
        "plt.show()"
      ],
      "metadata": {
        "id": "B2aS4O1ophqO"
      },
      "execution_count": null,
      "outputs": []
    },
    {
      "cell_type": "markdown",
      "source": [
        "##### 1. Why did you pick the specific chart?"
      ],
      "metadata": {
        "id": "gCFgpxoyphqP"
      }
    },
    {
      "cell_type": "markdown",
      "source": [
        "The above chart is used to observe the bookings trends across years."
      ],
      "metadata": {
        "id": "TVxDimi2phqP"
      }
    },
    {
      "cell_type": "markdown",
      "source": [
        "##### 2. What is/are the insight(s) found from the chart?"
      ],
      "metadata": {
        "id": "OVtJsKN_phqQ"
      }
    },
    {
      "cell_type": "markdown",
      "source": [
        "**Observation -** The most of the guests arrived in the year 2016."
      ],
      "metadata": {
        "id": "ngGi97qjphqQ"
      }
    },
    {
      "cell_type": "markdown",
      "source": [
        "##### 3. Will the gained insights help creating a positive business impact?\n",
        "Are there any insights that lead to negative growth? Justify with specific reason."
      ],
      "metadata": {
        "id": "lssrdh5qphqQ"
      }
    },
    {
      "cell_type": "markdown",
      "source": [
        "The insights gained from this chart can help in understanding the yearly trends of bookings, and what are the factors that affect the trend."
      ],
      "metadata": {
        "id": "tBpY5ekJphqQ"
      }
    },
    {
      "cell_type": "markdown",
      "source": [
        "#### 10. Booking distribution according to month"
      ],
      "metadata": {
        "id": "U2RJ9gkRphqQ"
      }
    },
    {
      "cell_type": "code",
      "source": [
        "sns.countplot(data = df, x = 'arrival_date_month', hue = 'hotel', palette = 'deep')\n",
        "# Countplot function of seaborn to create a countplot chart\n",
        "\n",
        "plt.xticks(rotation = 90)\n",
        "# Rotating values of x axis for better readability\n",
        "\n",
        "plt.title('Bookings according to month')\n",
        "# setting the title of the chart\n",
        "\n",
        "plt.show()"
      ],
      "metadata": {
        "id": "GM7a4YP4phqQ"
      },
      "execution_count": null,
      "outputs": []
    },
    {
      "cell_type": "markdown",
      "source": [
        "##### 1. Why did you pick the specific chart?"
      ],
      "metadata": {
        "id": "1M8mcRywphqQ"
      }
    },
    {
      "cell_type": "markdown",
      "source": [
        "From the above plot, we can observe the booking distribution across months, basedon city and resort hotels."
      ],
      "metadata": {
        "id": "8agQvks0phqQ"
      }
    },
    {
      "cell_type": "markdown",
      "source": [
        "##### 2. What is/are the insight(s) found from the chart?"
      ],
      "metadata": {
        "id": "tgIPom80phqQ"
      }
    },
    {
      "cell_type": "markdown",
      "source": [
        "**Observation -** Nearly half-year of October to February is the Off season for the hotel business of this dataset."
      ],
      "metadata": {
        "id": "Qp13pnNzphqQ"
      }
    },
    {
      "cell_type": "markdown",
      "source": [
        "##### 3. Will the gained insights help creating a positive business impact?\n",
        "Are there any insights that lead to negative growth? Justify with specific reason."
      ],
      "metadata": {
        "id": "JMzcOPDDphqR"
      }
    },
    {
      "cell_type": "markdown",
      "source": [
        "The insights gained from this chart can help to understand the monthly flow of bookings through out the year."
      ],
      "metadata": {
        "id": "R4Ka1PC2phqR"
      }
    },
    {
      "cell_type": "markdown",
      "source": [
        "#### 11. Percentage of guests that rebook the same hotel"
      ],
      "metadata": {
        "id": "x-EpHcCOp1ci"
      }
    },
    {
      "cell_type": "code",
      "source": [
        "repeated = df['is_repeated_guest'].value_counts()\n",
        "# Value counts of is_repeated_guests column\n",
        "\n",
        "repeated"
      ],
      "metadata": {
        "id": "mAQTIvtqp1cj"
      },
      "execution_count": null,
      "outputs": []
    },
    {
      "cell_type": "code",
      "source": [
        "plt.figure(figsize=(10, 8))\n",
        "\n",
        "df['is_repeated_guest'].value_counts().plot.pie(explode=[0.05, 0.05], autopct='%1.1f%%', shadow=True, figsize=(10, 8), fontsize=20)\n",
        "\n",
        "plt.title('% of guests that are reapeated')\n",
        "\n",
        "# Setting title of the created chart\n",
        "\n",
        "plt.show()"
      ],
      "metadata": {
        "id": "rbg55tFeeS4T"
      },
      "execution_count": null,
      "outputs": []
    },
    {
      "cell_type": "markdown",
      "source": [
        "##### 1. Why did you pick the specific chart?"
      ],
      "metadata": {
        "id": "X_VqEhTip1ck"
      }
    },
    {
      "cell_type": "markdown",
      "source": [
        "The above Pie chart is used to understands the percentage of guests that are rebooked in the same hotel."
      ],
      "metadata": {
        "id": "-vsMzt_np1ck"
      }
    },
    {
      "cell_type": "markdown",
      "source": [
        "##### 2. What is/are the insight(s) found from the chart?"
      ],
      "metadata": {
        "id": "8zGJKyg5p1ck"
      }
    },
    {
      "cell_type": "markdown",
      "source": [
        "**Observation -** Only 4.2 % of guests are repeatedly went to the same hotel and the rest are the new comers."
      ],
      "metadata": {
        "id": "ZYdMsrqVp1ck"
      }
    },
    {
      "cell_type": "markdown",
      "source": [
        "##### 3. Will the gained insights help creating a positive business impact?\n",
        "Are there any insights that lead to negative growth? Justify with specific reason."
      ],
      "metadata": {
        "id": "PVzmfK_Ep1ck"
      }
    },
    {
      "cell_type": "markdown",
      "source": [
        "The insights willhelp us in sales tatics to resell/booking the same hotel or resort. It can also help the business owner to create referral systems to attract the customers."
      ],
      "metadata": {
        "id": "druuKYZpp1ck"
      }
    },
    {
      "cell_type": "markdown",
      "source": [
        "#### 12. Distribution of booking made by distribution channels"
      ],
      "metadata": {
        "id": "n3dbpmDWp1ck"
      }
    },
    {
      "cell_type": "code",
      "source": [
        "distro_ch = df['distribution_channel'].value_counts().reset_index()\n",
        "#  By doing value counts, resetting index and remaining columns\n",
        "\n",
        "distro_ch"
      ],
      "metadata": {
        "id": "c5VUBjLE_YyL"
      },
      "execution_count": null,
      "outputs": []
    },
    {
      "cell_type": "code",
      "source": [
        "distro_ch = distro_ch.rename(columns = {'count' : 'bookings_made'})\n",
        "\n",
        "distro_ch"
      ],
      "metadata": {
        "id": "YZRE_sWRAQ7Y"
      },
      "execution_count": null,
      "outputs": []
    },
    {
      "cell_type": "code",
      "source": [
        "plt.figure(figsize = (5, 5))\n",
        "# Setting the size of the figure\n",
        "\n",
        "sns.barplot(data = distro_ch, x = 'distribution_channel', y = 'bookings_made', palette = 'deep')\n",
        "# Barplot of seaborn to create a bar graph\n",
        "\n",
        "plt.title('Booking made by distribution channels')\n",
        "# Setting the title of the chart\n",
        "\n",
        "plt.show()"
      ],
      "metadata": {
        "id": "trxpilF6A-ry"
      },
      "execution_count": null,
      "outputs": []
    },
    {
      "cell_type": "markdown",
      "source": [
        "##### 1. Why did you pick the specific chart?"
      ],
      "metadata": {
        "id": "ylSl6qgtp1ck"
      }
    },
    {
      "cell_type": "markdown",
      "source": [
        "It shows the share of bookings made by the distribution channel"
      ],
      "metadata": {
        "id": "m2xqNkiQp1ck"
      }
    },
    {
      "cell_type": "markdown",
      "source": [
        "##### 2. What is/are the insight(s) found from the chart?"
      ],
      "metadata": {
        "id": "ZWILFDl5p1ck"
      }
    },
    {
      "cell_type": "markdown",
      "source": [
        "**Observation -** TA/TO make the most of the bookings followed by the Direct and Corporte distribution_channel."
      ],
      "metadata": {
        "id": "x-lUsV2mp1ck"
      }
    },
    {
      "cell_type": "markdown",
      "source": [
        "##### 3. Will the gained insights help creating a positive business impact?\n",
        "Are there any insights that lead to negative growth? Justify with specific reason."
      ],
      "metadata": {
        "id": "M7G43BXep1ck"
      }
    },
    {
      "cell_type": "markdown",
      "source": [
        "The insights can guide the business owner in making informed decisions to optimize their distribution strategy, improve overall bookings, and drive business growth."
      ],
      "metadata": {
        "id": "5wwDJXsLp1cl"
      }
    },
    {
      "cell_type": "code",
      "source": [
        "print('0.05th quartile:', df['lead_time'].quantile(0.05))\n",
        "# Showing the 0.05th quartile\n",
        "\n",
        "print('0.25th quartile:', df['lead_time'].quantile(0.25))\n",
        "# Showing the 0.25th quartile\n",
        "\n",
        "print('0.75th quartile:', df['lead_time'].quantile(0.75))\n",
        "# Showing the 0.75th quartile\n",
        "\n",
        "print('0.95th quartile:', df['lead_time'].quantile(0.95))\n",
        "# Showing the 0.95th quartile"
      ],
      "metadata": {
        "id": "rkn5GrfMEeSC"
      },
      "execution_count": null,
      "outputs": []
    },
    {
      "cell_type": "markdown",
      "source": [
        "#### 13. Distribution of lead time, which is the number of days elapsed between entering the arrival_date in the PMS and the arrival date."
      ],
      "metadata": {
        "id": "Ag9LCva-p1cl"
      }
    },
    {
      "cell_type": "code",
      "source": [
        "sns.boxplot(data = df, y = 'lead_time', x = 'hotel')\n",
        "# Boxplot function of seaborn to create a boxplot chart"
      ],
      "metadata": {
        "id": "EUfxeq9-p1cl"
      },
      "execution_count": null,
      "outputs": []
    },
    {
      "cell_type": "markdown",
      "source": [
        "##### 1. Why did you pick the specific chart?"
      ],
      "metadata": {
        "id": "E6MkPsBcp1cl"
      }
    },
    {
      "cell_type": "markdown",
      "source": [
        "The above plot is used to understand the distribution of lead time on a boxplot."
      ],
      "metadata": {
        "id": "V22bRsFWp1cl"
      }
    },
    {
      "cell_type": "markdown",
      "source": [
        "##### 2. What is/are the insight(s) found from the chart?"
      ],
      "metadata": {
        "id": "2cELzS2fp1cl"
      }
    },
    {
      "cell_type": "markdown",
      "source": [
        "**Observation -** We can obsereve that most of the guests arrives within around 100 days of booking the hotel, with a few outliers of 500 and 700 days."
      ],
      "metadata": {
        "id": "ozQPc2_Ip1cl"
      }
    },
    {
      "cell_type": "markdown",
      "source": [
        "##### 3. Will the gained insights help creating a positive business impact?\n",
        "Are there any insights that lead to negative growth? Justify with specific reason."
      ],
      "metadata": {
        "id": "3MPXvC8up1cl"
      }
    },
    {
      "cell_type": "markdown",
      "source": [
        "The gained insights can help the business owner understand the trends in the lead time discrete numeric variable and act accordingly."
      ],
      "metadata": {
        "id": "GL8l1tdLp1cl"
      }
    },
    {
      "cell_type": "markdown",
      "source": [
        "### 14. Distribution of bookings based on nationality"
      ],
      "metadata": {
        "id": "e2QrTzMYIs4N"
      }
    },
    {
      "cell_type": "code",
      "source": [
        "country_df = df['country'].value_counts().reset_index().sort_values(by = 'count', ascending = False)[:10]\n",
        "country_df"
      ],
      "metadata": {
        "id": "BpqhnAZGIqSf"
      },
      "execution_count": null,
      "outputs": []
    },
    {
      "cell_type": "code",
      "source": [
        "sns.barplot(data = country_df, x = 'country', y = 'count', palette = sns.color_palette('Set2'))\n",
        "# Barplot of seaborn to create a bar graph"
      ],
      "metadata": {
        "id": "pW9H1uWsJr7b"
      },
      "execution_count": null,
      "outputs": []
    },
    {
      "cell_type": "markdown",
      "source": [
        "##### 1. Why did you pick the specific chart?"
      ],
      "metadata": {
        "id": "Q1do4y4QKSYP"
      }
    },
    {
      "cell_type": "markdown",
      "source": [
        "The above plot shows the number of bookings by nationality."
      ],
      "metadata": {
        "id": "HWupvmy7KSLV"
      }
    },
    {
      "cell_type": "markdown",
      "source": [
        "#### 2. What is/are the insight(s) found from the chart?"
      ],
      "metadata": {
        "id": "fojWjgC_KRkd"
      }
    },
    {
      "cell_type": "markdown",
      "source": [
        "**Observation -** Portugal, Britain, France. Spanish and German are the nationalities which make the most of the bookings."
      ],
      "metadata": {
        "id": "shKjDDzVKRXe"
      }
    },
    {
      "cell_type": "markdown",
      "source": [
        "#### 3. Will the gained insights help creating a positive business impact?\n",
        "\n",
        "Are there any insights that lead to negative growth? Justify with specific reason."
      ],
      "metadata": {
        "id": "2-TYqIaXLsfu"
      }
    },
    {
      "cell_type": "markdown",
      "source": [
        "Incorporating nationality-specific insights into various aspects of the hotel's operations allows for a more tailored and enriching experience for guests, ultimately driving customer loyalty, positive word-of-mouth, and business growth."
      ],
      "metadata": {
        "id": "RpMdD0DmKQ1r"
      }
    },
    {
      "cell_type": "markdown",
      "source": [
        "### 15. Distribution of the total number of people that stay in the hotels"
      ],
      "metadata": {
        "id": "YvoFL60narbg"
      }
    },
    {
      "cell_type": "code",
      "source": [
        "sns.set_style('whitegrid')\n",
        "# Setting style of the background grid\n",
        "\n",
        "sns.countplot(data = df, y = 'total_people', palette = 'colorblind')\n",
        "# Countplot of seaborn to create count chart\n",
        "\n",
        "plt.xlabel('Count')\n",
        "# Setting xlabel\n",
        "\n",
        "plt.ylabel('Number of total people for stay')\n",
        "# Setting ylabel\n",
        "plt.title('Distribution of number of people in each stay')\n",
        "# setting title\n",
        "plt.show()"
      ],
      "metadata": {
        "id": "WDJmqflnbAj_"
      },
      "execution_count": null,
      "outputs": []
    },
    {
      "cell_type": "markdown",
      "source": [
        "### 1. Why did you the specific chart?"
      ],
      "metadata": {
        "id": "oiMWdhw1fhmk"
      }
    },
    {
      "cell_type": "markdown",
      "source": [
        "From the above chart we can observe how amny people will be in a group usually stay in the hotels."
      ],
      "metadata": {
        "id": "a67fRRm9fhLo"
      }
    },
    {
      "cell_type": "markdown",
      "source": [
        "#### 2. What is/are the insight(s) found from the chart?"
      ],
      "metadata": {
        "id": "n-pixtcAfhPg"
      }
    },
    {
      "cell_type": "markdown",
      "source": [
        "**Observation -** Most bookings are of group with 2 people, but rooms with 3 and 4 people to accomadate should also be present."
      ],
      "metadata": {
        "id": "kbXcSWXWfg_v"
      }
    },
    {
      "cell_type": "markdown",
      "source": [
        "#### 3. Will the gained insights help creating a positive business impact?\n",
        "\n",
        "Are there any insights that lead to negative growth? Justify with specific reason."
      ],
      "metadata": {
        "id": "uRmSHqdOfhC_"
      }
    },
    {
      "cell_type": "markdown",
      "source": [
        "It will helps the business owners make the required decisions of making allocation of rooms within their hotel based on the room type , type of beds and furniture neede."
      ],
      "metadata": {
        "id": "dtp1h_YKfg8W"
      }
    },
    {
      "cell_type": "markdown",
      "source": [
        "### 16. Distribution of total_stay of days/nights that guests stay in the hotel"
      ],
      "metadata": {
        "id": "XXG5uECZiRje"
      }
    },
    {
      "cell_type": "code",
      "source": [
        "total_stay_df = df['total_stay'].value_counts().reset_index().sort_values(by = 'count', ascending = False)[:20]\n",
        "# Doing value_counts,l resetting index, sorting values and index\n",
        "\n",
        "total_stay_df"
      ],
      "metadata": {
        "id": "i88i8eS9iqCT"
      },
      "execution_count": null,
      "outputs": []
    },
    {
      "cell_type": "code",
      "source": [
        "total_stay_df = total_stay_df.rename(columns = {'total_stay' : 'total_stay_nights'})\n",
        "total_stay_df"
      ],
      "metadata": {
        "id": "0qX6GuiqkuzS"
      },
      "execution_count": null,
      "outputs": []
    },
    {
      "cell_type": "code",
      "source": [
        "sns.set_style('whitegrid')\n",
        "# Setting background grid style\n",
        "\n",
        "sns.lineplot(data = total_stay_df, x = 'total_stay_nights', y = 'count', palette = sns.color_palette('Set3'))\n",
        "# Lineplot of seaborn to create linechart\n",
        "\n",
        "plt.show()"
      ],
      "metadata": {
        "id": "rC8Tp6Rdjblk"
      },
      "execution_count": null,
      "outputs": []
    },
    {
      "cell_type": "markdown",
      "source": [
        "### 1. Why did you the specific chart?"
      ],
      "metadata": {
        "id": "UX2kxy6blwjf"
      }
    },
    {
      "cell_type": "markdown",
      "source": [
        "Line chart is used to observe that number of days/nights people likes to stay in the hotels."
      ],
      "metadata": {
        "id": "Dia6dN48lwcC"
      }
    },
    {
      "cell_type": "markdown",
      "source": [
        "#### 2. What is/are the insight(s) found from the chart?"
      ],
      "metadata": {
        "id": "0Cl6P323lwUj"
      }
    },
    {
      "cell_type": "markdown",
      "source": [
        "**Observation -** Most of the bookings were for 1 to 3 nights, but few customers can be expected to stay for a week."
      ],
      "metadata": {
        "id": "YzM8egQilwNJ"
      }
    },
    {
      "cell_type": "markdown",
      "source": [
        "#### 3. Will the gained insights help creating a positive business impact?\n",
        "\n",
        "Are there any insights that lead to negative growth? Justify with specific reason."
      ],
      "metadata": {
        "id": "OmsVq-TklwFN"
      }
    },
    {
      "cell_type": "markdown",
      "source": [
        "This will help the hotel management to provide their best services and facilities for the customers to stay for lpong periods than they like to stay."
      ],
      "metadata": {
        "id": "vgP2RGpBlv88"
      }
    },
    {
      "cell_type": "markdown",
      "source": [
        "### 17. Distribution of total_stay vs total_stay"
      ],
      "metadata": {
        "id": "2fdZFeHHoJu3"
      }
    },
    {
      "cell_type": "code",
      "source": [
        "plt.figure(figsize = (7, 5))\n",
        "# Setting size of the figure\n",
        "\n",
        "sns.scatterplot(data = df, x = 'total_stay', y = 'total_people').set_title('Total stay ve Total people scatter plot')\n",
        "# Scatterplot of seaborn to see the presence of dots at the intersection of total_stay and total_people\n",
        "\n",
        "plt.show()"
      ],
      "metadata": {
        "id": "L8W_yxttob_W"
      },
      "execution_count": null,
      "outputs": []
    },
    {
      "cell_type": "markdown",
      "source": [
        "### 1. Why did you the specific chart?"
      ],
      "metadata": {
        "id": "rhqoD-Mspldc"
      }
    },
    {
      "cell_type": "markdown",
      "source": [
        "The Scatter plot will shows the distribution of the number of days/nights stays over the group of people(total_people)."
      ],
      "metadata": {
        "id": "v_eftowjplZf"
      }
    },
    {
      "cell_type": "markdown",
      "source": [
        "#### 2. What is/are the insight(s) found from the chart?"
      ],
      "metadata": {
        "id": "jFiul5LAplID"
      }
    },
    {
      "cell_type": "markdown",
      "source": [
        "Most of the group with 0-5 of people maiximum like to stay of 30 days. A few people where like to stay more than 50 and more days."
      ],
      "metadata": {
        "id": "8iU3XdWOplEj"
      }
    },
    {
      "cell_type": "markdown",
      "source": [
        "#### 3. Will the gained insights help creating a positive business impact?\n",
        "\n",
        "Are there any insights that lead to negative growth? Justify with specific reason."
      ],
      "metadata": {
        "id": "id1-DH0Bpkw7"
      }
    },
    {
      "cell_type": "markdown",
      "source": [
        "By leveraging insights into guests' length of stay preferences, hotel management can optimize operations, enhance guest satisfaction, and ultimately drive profitability and competitive advantage in the hospitality industry."
      ],
      "metadata": {
        "id": "Dr4ToTmypktk"
      }
    },
    {
      "cell_type": "markdown",
      "source": [
        "### 18. Customers most prefer meal type"
      ],
      "metadata": {
        "id": "37VS0LftsqfL"
      }
    },
    {
      "cell_type": "code",
      "source": [
        "plt.figure(figsize = (9, 6))\n",
        "# Setting the figure size for the chart\n",
        "\n",
        "sns.countplot(x = 'meal', hue = 'hotel', data = df)\n",
        "# Creating a count plot using seaborn\n",
        "\n",
        "plt.xlabel('Meal Type')\n",
        "# Labeling x axis\n",
        "plt.ylabel('Customer prefer count', fontsize = 12)\n",
        "# Labeling y axis\n",
        "plt.title('Distribution of Meal type in term of customer prefers', fontsize = 15)\n",
        "# Setting title of our chart\n",
        "plt.legend(title = 'hotel')\n",
        "# setting legend title\n",
        "plt.show()"
      ],
      "metadata": {
        "id": "Vc2D_-YLtJB3"
      },
      "execution_count": null,
      "outputs": []
    },
    {
      "cell_type": "markdown",
      "source": [
        "Types of meal in hotels:\n",
        "\n",
        "BB - (Bed and Breakfast)\n",
        "\n",
        "HB- (Half Board)\n",
        "\n",
        "FB- (Full Board)\n",
        "\n",
        "SC- (Self Catering)"
      ],
      "metadata": {
        "id": "51-fifb-wvo4"
      }
    },
    {
      "cell_type": "markdown",
      "source": [
        "### 1. Why did you the specific chart?"
      ],
      "metadata": {
        "id": "koTdaoN0wc_p"
      }
    },
    {
      "cell_type": "markdown",
      "source": [
        "The bar chart shows which is the most preferred meal type by the guests is BB( Bed and Breakfast)"
      ],
      "metadata": {
        "id": "Vk2PitIrwc8I"
      }
    },
    {
      "cell_type": "markdown",
      "source": [
        "#### 2. What is/are the insight(s) found from the chart?"
      ],
      "metadata": {
        "id": "OiOUKbyowcbh"
      }
    },
    {
      "cell_type": "markdown",
      "source": [
        "1. Both of City and Resort hotels guests like to have Bed abd Breakfast meal type.\n",
        "2. There is no demand of FB meal type in City hotel and very less demand in Resort hotel.\n",
        "3. No Self Catering meal type presents in Resort hotel."
      ],
      "metadata": {
        "id": "bKTrxKMIwcHI"
      }
    },
    {
      "cell_type": "markdown",
      "source": [
        "#### 3. Will the gained insights help creating a positive business impact?\n",
        "\n",
        "Are there any insights that lead to negative growth? Justify with specific reason."
      ],
      "metadata": {
        "id": "b4_ZdWrMwcAd"
      }
    },
    {
      "cell_type": "markdown",
      "source": [
        "By focusing on providing exceptional breakfast experiences that cater to guest preferences, the hotel can differentiate itself from competitors, drive guest satisfaction, and ultimately encourage longer stays and repeat visits."
      ],
      "metadata": {
        "id": "38S62F0ewbyG"
      }
    },
    {
      "cell_type": "markdown",
      "source": [
        "#### 19. Correlation Heatmap"
      ],
      "metadata": {
        "id": "NC_X3p0fY2L0"
      }
    },
    {
      "cell_type": "code",
      "source": [
        "# Correlation Heatmap visualization code\n",
        "\n",
        "plt.figure(figsize = (16, 10))\n",
        "sns.heatmap(df.corr(numeric_only = True), annot = True)\n",
        "# heatmap of seaborn to create heatmap chart\n",
        "\n",
        "plt.title('Correlations between the columns', fontsize = 20)\n",
        "plt.show()"
      ],
      "metadata": {
        "id": "xyC9zolEZNRQ"
      },
      "execution_count": null,
      "outputs": []
    },
    {
      "cell_type": "markdown",
      "source": [
        "##### 1. Why did you pick the specific chart?"
      ],
      "metadata": {
        "id": "UV0SzAkaZNRQ"
      }
    },
    {
      "cell_type": "markdown",
      "source": [
        "Correlation heatmaps is used to find the relationships between the variables"
      ],
      "metadata": {
        "id": "DVPuT8LYZNRQ"
      }
    },
    {
      "cell_type": "markdown",
      "source": [
        "##### 2. What is/are the insight(s) found from the chart?"
      ],
      "metadata": {
        "id": "YPEH6qLeZNRQ"
      }
    },
    {
      "cell_type": "markdown",
      "source": [
        "1) is_canceled and same_room_alloted_or_not are negatively corelated. That means customer is unlikely to cancel his bookings if he don't get the same room as per reserved room. We have visualized it above.\n",
        "\n",
        "2) lead_time and total_stay is positively corelated.That means more is the stay of cutsomer more will be the lead time.\n",
        "\n",
        "3)adults,childrens and babies are corelated to each other. That means more the people more will be adr.\n",
        "\n",
        "4) is_repeated guest and previous bookings not canceled has strong corelation. may be repeated guests are not more likely to cancel their bookings."
      ],
      "metadata": {
        "id": "bfSqtnDqZNRR"
      }
    },
    {
      "cell_type": "markdown",
      "source": [
        "#### 20. Pair Plot Visualizatin"
      ],
      "metadata": {
        "id": "q29F0dvdveiT"
      }
    },
    {
      "cell_type": "code",
      "source": [
        "# Pairplot visualization code\n",
        "\n",
        "\n",
        "# Now use sns.pairplot() with the DataFrame\n",
        "sns.pairplot(data=df)\n",
        "\n",
        "plt.show()"
      ],
      "metadata": {
        "id": "xr5yI1zR49-S"
      },
      "execution_count": null,
      "outputs": []
    },
    {
      "cell_type": "markdown",
      "source": [
        "##### 1. Why did you pick the specific chart?"
      ],
      "metadata": {
        "id": "EXh0U9oCveiU"
      }
    },
    {
      "cell_type": "markdown",
      "source": [
        "A pair plot allows us to both distribution of single variables and relationship between two variables. We can see the relationship between all the columns with each other."
      ],
      "metadata": {
        "id": "eMmPjTByveiU"
      }
    },
    {
      "cell_type": "markdown",
      "source": [
        "##### 2. What is/are the insight(s) found from the chart?"
      ],
      "metadata": {
        "id": "22aHeOlLveiV"
      }
    },
    {
      "cell_type": "markdown",
      "source": [
        "1. From the above pair chart we can observe that if cancellation increases then total stay will decreases.\n",
        "2. As the total number of people increase, ADR also increases. Thus the ADR are directly proportional to number of people."
      ],
      "metadata": {
        "id": "uPQ8RGwHveiV"
      }
    },
    {
      "cell_type": "markdown",
      "source": [
        "## **5. Solution to Business Objective**"
      ],
      "metadata": {
        "id": "JcMwzZxoAimU"
      }
    },
    {
      "cell_type": "markdown",
      "source": [
        "#### What do you suggest the client to achieve Business Objective ?\n",
        "Explain Briefly"
      ],
      "metadata": {
        "id": "8G2x9gOozGDZ"
      }
    },
    {
      "cell_type": "markdown",
      "source": [
        "1. City hotel are most preferred, so the stack holders must maintain and improve the services in City hotel and come up with strategies like offers to increase the booking in resort hotels.\n",
        "2. About 26.2 % of bookings got cancelled, so the stack holders must increase the deposite amount so thst the number of cancellation go down and they make profoit.\n",
        "3. Agent nummber 9, 240 and 0 must be rewarded by stack holders for such outstanding performance, so it increasing the competition among agents.\n",
        "4. Sales team must be stressed more to perfrom in Summer season as it is preferred season for hotel business. Also in off season sales techniques must be changed as it is more difficult to get customers in off seasons.\n",
        "5. Room types A, D and E must be incresed in hotels as they are mostly reserved and assigned.\n",
        "6. Only 4.2 % of gusts return to the same hotel, so the guests staying can be coupons or offers so thst they come back to the same hotel again.\n",
        "7. TA / TO, Corporate booking and direct channels performance must be flourished to gain more bookings.\n",
        "8. Portugese, British and French dishes must be added and guests of these nationality must be made to feel comfortable by targeting their likings.\n",
        "9. Meal type Bed and Breakfast must be kept in stock at all times and techniques to sell other meal types must be rejuvenated.\n",
        "10. Very less children have been seen to be guests, so parks and gaming zones may be built to attract guests with children."
      ],
      "metadata": {
        "id": "pASKb0qOza21"
      }
    },
    {
      "cell_type": "markdown",
      "source": [
        "# **Conclusion**"
      ],
      "metadata": {
        "id": "gCX9965dhzqZ"
      }
    },
    {
      "cell_type": "markdown",
      "source": [
        "In conclusion, leveraging guest data and insights to inform strategic decision-making, offer customization, and customer engagement is essential for hotel stakeholders to stay competitive in the dynamic hospitality industry. By continuously updating their dataset, analyzing guest behavior, soliciting feedback, and personalizing their offerings and communication, stakeholders can create a differentiated guest experience that drives loyalty, satisfaction, and business success."
      ],
      "metadata": {
        "id": "Fjb1IsQkh3yE"
      }
    },
    {
      "cell_type": "markdown",
      "source": [
        "### ***Hurrah! You have successfully completed your EDA Capstone Project !!!***"
      ],
      "metadata": {
        "id": "gIfDvo9L0UH2"
      }
    }
  ]
}